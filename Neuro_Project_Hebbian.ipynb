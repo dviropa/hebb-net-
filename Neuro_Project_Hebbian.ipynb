{
 "cells": [
  {
   "cell_type": "code",
   "execution_count": 227,
   "metadata": {},
   "outputs": [],
   "source": [
    "import numpy as np\n",
    "import pandas as pd"
   ]
  },
  {
   "cell_type": "code",
   "execution_count": 228,
   "metadata": {},
   "outputs": [
    {
     "data": {
      "text/html": [
       "<div>\n",
       "<style scoped>\n",
       "    .dataframe tbody tr th:only-of-type {\n",
       "        vertical-align: middle;\n",
       "    }\n",
       "\n",
       "    .dataframe tbody tr th {\n",
       "        vertical-align: top;\n",
       "    }\n",
       "\n",
       "    .dataframe thead th {\n",
       "        text-align: right;\n",
       "    }\n",
       "</style>\n",
       "<table border=\"1\" class=\"dataframe\">\n",
       "  <thead>\n",
       "    <tr style=\"text-align: right;\">\n",
       "      <th></th>\n",
       "      <th>pixel1</th>\n",
       "      <th>pixel2</th>\n",
       "      <th>pixel3</th>\n",
       "      <th>pixel4</th>\n",
       "      <th>pixel5</th>\n",
       "      <th>pixel6</th>\n",
       "      <th>pixel7</th>\n",
       "      <th>pixel8</th>\n",
       "      <th>pixel9</th>\n",
       "      <th>pixel10</th>\n",
       "      <th>...</th>\n",
       "      <th>pixel56</th>\n",
       "      <th>pixel57</th>\n",
       "      <th>pixel58</th>\n",
       "      <th>pixel59</th>\n",
       "      <th>pixel60</th>\n",
       "      <th>pixel61</th>\n",
       "      <th>pixel62</th>\n",
       "      <th>pixel63</th>\n",
       "      <th>pixel64</th>\n",
       "      <th>bias</th>\n",
       "    </tr>\n",
       "    <tr>\n",
       "      <th>letter</th>\n",
       "      <th></th>\n",
       "      <th></th>\n",
       "      <th></th>\n",
       "      <th></th>\n",
       "      <th></th>\n",
       "      <th></th>\n",
       "      <th></th>\n",
       "      <th></th>\n",
       "      <th></th>\n",
       "      <th></th>\n",
       "      <th></th>\n",
       "      <th></th>\n",
       "      <th></th>\n",
       "      <th></th>\n",
       "      <th></th>\n",
       "      <th></th>\n",
       "      <th></th>\n",
       "      <th></th>\n",
       "      <th></th>\n",
       "      <th></th>\n",
       "      <th></th>\n",
       "    </tr>\n",
       "  </thead>\n",
       "  <tbody>\n",
       "    <tr>\n",
       "      <th>A</th>\n",
       "      <td>0</td>\n",
       "      <td>0</td>\n",
       "      <td>0</td>\n",
       "      <td>1</td>\n",
       "      <td>1</td>\n",
       "      <td>0</td>\n",
       "      <td>0</td>\n",
       "      <td>0</td>\n",
       "      <td>0</td>\n",
       "      <td>0</td>\n",
       "      <td>...</td>\n",
       "      <td>1</td>\n",
       "      <td>0</td>\n",
       "      <td>0</td>\n",
       "      <td>0</td>\n",
       "      <td>0</td>\n",
       "      <td>0</td>\n",
       "      <td>0</td>\n",
       "      <td>0</td>\n",
       "      <td>0</td>\n",
       "      <td>1</td>\n",
       "    </tr>\n",
       "    <tr>\n",
       "      <th>B</th>\n",
       "      <td>1</td>\n",
       "      <td>1</td>\n",
       "      <td>1</td>\n",
       "      <td>1</td>\n",
       "      <td>1</td>\n",
       "      <td>1</td>\n",
       "      <td>0</td>\n",
       "      <td>0</td>\n",
       "      <td>1</td>\n",
       "      <td>0</td>\n",
       "      <td>...</td>\n",
       "      <td>0</td>\n",
       "      <td>0</td>\n",
       "      <td>0</td>\n",
       "      <td>0</td>\n",
       "      <td>0</td>\n",
       "      <td>0</td>\n",
       "      <td>0</td>\n",
       "      <td>0</td>\n",
       "      <td>0</td>\n",
       "      <td>1</td>\n",
       "    </tr>\n",
       "    <tr>\n",
       "      <th>C</th>\n",
       "      <td>0</td>\n",
       "      <td>0</td>\n",
       "      <td>1</td>\n",
       "      <td>1</td>\n",
       "      <td>1</td>\n",
       "      <td>1</td>\n",
       "      <td>0</td>\n",
       "      <td>0</td>\n",
       "      <td>0</td>\n",
       "      <td>1</td>\n",
       "      <td>...</td>\n",
       "      <td>0</td>\n",
       "      <td>0</td>\n",
       "      <td>0</td>\n",
       "      <td>0</td>\n",
       "      <td>0</td>\n",
       "      <td>0</td>\n",
       "      <td>0</td>\n",
       "      <td>0</td>\n",
       "      <td>0</td>\n",
       "      <td>1</td>\n",
       "    </tr>\n",
       "  </tbody>\n",
       "</table>\n",
       "<p>3 rows × 65 columns</p>\n",
       "</div>"
      ],
      "text/plain": [
       "        pixel1  pixel2  pixel3  pixel4  pixel5  pixel6  pixel7  pixel8  \\\n",
       "letter                                                                   \n",
       "A            0       0       0       1       1       0       0       0   \n",
       "B            1       1       1       1       1       1       0       0   \n",
       "C            0       0       1       1       1       1       0       0   \n",
       "\n",
       "        pixel9  pixel10  ...  pixel56  pixel57  pixel58  pixel59  pixel60  \\\n",
       "letter                   ...                                                \n",
       "A            0        0  ...        1        0        0        0        0   \n",
       "B            1        0  ...        0        0        0        0        0   \n",
       "C            0        1  ...        0        0        0        0        0   \n",
       "\n",
       "        pixel61  pixel62  pixel63  pixel64  bias  \n",
       "letter                                            \n",
       "A             0        0        0        0     1  \n",
       "B             0        0        0        0     1  \n",
       "C             0        0        0        0     1  \n",
       "\n",
       "[3 rows x 65 columns]"
      ]
     },
     "execution_count": 228,
     "metadata": {},
     "output_type": "execute_result"
    }
   ],
   "source": [
    "letters = pd.read_csv(\"letters2.csv\")\n",
    "letters.set_index('letter',inplace = True)\n",
    "letters[\"bias\"] = 1\n",
    "letters.head(3)"
   ]
  },
  {
   "cell_type": "code",
   "execution_count": 229,
   "metadata": {},
   "outputs": [
    {
     "data": {
      "text/plain": [
       "(26, 65)"
      ]
     },
     "execution_count": 229,
     "metadata": {},
     "output_type": "execute_result"
    }
   ],
   "source": [
    "letters.shape"
   ]
  },
  {
   "cell_type": "code",
   "execution_count": 230,
   "metadata": {},
   "outputs": [],
   "source": [
    "def in_target(letter:str):\n",
    "    if ord('A') <= ord(letter) <= ord('I'):\n",
    "        return 1\n",
    "    elif ord('J') <= ord(letter) <= ord('R'): \n",
    "        return 0\n",
    "    elif ord('S') <= ord(letter) <= ord('Z'):\n",
    "        return -1"
   ]
  },
  {
   "cell_type": "code",
   "execution_count": 231,
   "metadata": {},
   "outputs": [],
   "source": [
    "#אימון הרשת, אין_טארגט נותן את הטווח הרצוי של האות, קרי המטרה\n",
    "def train_Hebbian(train,alpha =1):\n",
    "    W = np.zeros(train.shape[1])\n",
    "    for letter in train.index:\n",
    "        W = W + np.dot(train.loc[letter],in_target(letter))\n",
    "    return W"
   ]
  },
  {
   "cell_type": "code",
   "execution_count": 232,
   "metadata": {},
   "outputs": [
    {
     "name": "stdout",
     "output_type": "stream",
     "text": [
      "the final Weights vector as 8x8 is:\n",
      "\n",
      " [[-2.  3.  4.  5.  5.  3.  1. -4.]\n",
      " [ 2. -1.  1.  0.  0.  1.  0. -2.]\n",
      " [ 4.  0. -2.  0. -1. -2.  2. -1.]\n",
      " [ 6.  5.  3.  0.  2.  3.  4.  0.]\n",
      " [ 6.  0. -4. -1.  0. -3.  3. -1.]\n",
      " [ 5. -3.  0. -2. -1.  1. -1.  1.]\n",
      " [ 3.  3.  3.  0.  3.  2.  1.  0.]\n",
      " [ 0.  0.  0.  0.  0.  0.  0.  0.]]\n",
      "the Bias is : 1.0\n"
     ]
    }
   ],
   "source": [
    "W = train_Hebbian(letters)\n",
    "W_8x8 = W[:-1].reshape(8, 8)\n",
    "print(\"the final Weights vector as 8x8 is:\\n\\n\",W_8x8)\n",
    "print(\"the Bias is :\",W[-1])"
   ]
  },
  {
   "cell_type": "code",
   "execution_count": null,
   "metadata": {},
   "outputs": [],
   "source": []
  },
  {
   "cell_type": "markdown",
   "metadata": {},
   "source": [
    "### notice the bias is 1!!!!"
   ]
  },
  {
   "cell_type": "code",
   "execution_count": 233,
   "metadata": {},
   "outputs": [],
   "source": [
    "def test_Hebbian(test,W):\n",
    "    success = 0\n",
    "    for letter in test.index:\n",
    "        fire = np.dot(test.loc[letter],W)\n",
    "        target = in_target(letter)\n",
    "\n",
    "        if target == fire == 0: #both are zero - J-R class\n",
    "            success += 1 \n",
    "        elif 0 < target <= fire: #both are positive - A-I class\n",
    "            success += 1\n",
    "        elif fire <= target < 0: #both are negative - S-Z class\n",
    "            success += 1\n",
    "            \n",
    "    return success*100/26"
   ]
  },
  {
   "cell_type": "code",
   "execution_count": 234,
   "metadata": {},
   "outputs": [
    {
     "name": "stdout",
     "output_type": "stream",
     "text": [
      "the success rate of the network is : 46.15%\n"
     ]
    }
   ],
   "source": [
    "result = test_Hebbian(letters,W)\n",
    "print(\"the success rate of the network is : {:.2f}%\".format(result))"
   ]
  },
  {
   "cell_type": "code",
   "execution_count": 235,
   "metadata": {},
   "outputs": [
    {
     "data": {
      "text/html": [
       "<div>\n",
       "<style scoped>\n",
       "    .dataframe tbody tr th:only-of-type {\n",
       "        vertical-align: middle;\n",
       "    }\n",
       "\n",
       "    .dataframe tbody tr th {\n",
       "        vertical-align: top;\n",
       "    }\n",
       "\n",
       "    .dataframe thead th {\n",
       "        text-align: right;\n",
       "    }\n",
       "</style>\n",
       "<table border=\"1\" class=\"dataframe\">\n",
       "  <thead>\n",
       "    <tr style=\"text-align: right;\">\n",
       "      <th></th>\n",
       "      <th>pixel1</th>\n",
       "      <th>pixel2</th>\n",
       "      <th>pixel3</th>\n",
       "      <th>pixel4</th>\n",
       "      <th>pixel5</th>\n",
       "      <th>pixel6</th>\n",
       "      <th>pixel7</th>\n",
       "      <th>pixel8</th>\n",
       "      <th>pixel9</th>\n",
       "      <th>pixel10</th>\n",
       "      <th>...</th>\n",
       "      <th>pixel56</th>\n",
       "      <th>pixel57</th>\n",
       "      <th>pixel58</th>\n",
       "      <th>pixel59</th>\n",
       "      <th>pixel60</th>\n",
       "      <th>pixel61</th>\n",
       "      <th>pixel62</th>\n",
       "      <th>pixel63</th>\n",
       "      <th>pixel64</th>\n",
       "      <th>bias</th>\n",
       "    </tr>\n",
       "    <tr>\n",
       "      <th>letter</th>\n",
       "      <th></th>\n",
       "      <th></th>\n",
       "      <th></th>\n",
       "      <th></th>\n",
       "      <th></th>\n",
       "      <th></th>\n",
       "      <th></th>\n",
       "      <th></th>\n",
       "      <th></th>\n",
       "      <th></th>\n",
       "      <th></th>\n",
       "      <th></th>\n",
       "      <th></th>\n",
       "      <th></th>\n",
       "      <th></th>\n",
       "      <th></th>\n",
       "      <th></th>\n",
       "      <th></th>\n",
       "      <th></th>\n",
       "      <th></th>\n",
       "      <th></th>\n",
       "    </tr>\n",
       "  </thead>\n",
       "  <tbody>\n",
       "    <tr>\n",
       "      <th>A</th>\n",
       "      <td>-1</td>\n",
       "      <td>-1</td>\n",
       "      <td>-1</td>\n",
       "      <td>1</td>\n",
       "      <td>1</td>\n",
       "      <td>-1</td>\n",
       "      <td>-1</td>\n",
       "      <td>-1</td>\n",
       "      <td>-1</td>\n",
       "      <td>-1</td>\n",
       "      <td>...</td>\n",
       "      <td>1</td>\n",
       "      <td>-1</td>\n",
       "      <td>-1</td>\n",
       "      <td>-1</td>\n",
       "      <td>-1</td>\n",
       "      <td>-1</td>\n",
       "      <td>-1</td>\n",
       "      <td>-1</td>\n",
       "      <td>-1</td>\n",
       "      <td>1</td>\n",
       "    </tr>\n",
       "    <tr>\n",
       "      <th>B</th>\n",
       "      <td>1</td>\n",
       "      <td>1</td>\n",
       "      <td>1</td>\n",
       "      <td>1</td>\n",
       "      <td>1</td>\n",
       "      <td>1</td>\n",
       "      <td>-1</td>\n",
       "      <td>-1</td>\n",
       "      <td>1</td>\n",
       "      <td>-1</td>\n",
       "      <td>...</td>\n",
       "      <td>-1</td>\n",
       "      <td>-1</td>\n",
       "      <td>-1</td>\n",
       "      <td>-1</td>\n",
       "      <td>-1</td>\n",
       "      <td>-1</td>\n",
       "      <td>-1</td>\n",
       "      <td>-1</td>\n",
       "      <td>-1</td>\n",
       "      <td>1</td>\n",
       "    </tr>\n",
       "    <tr>\n",
       "      <th>C</th>\n",
       "      <td>-1</td>\n",
       "      <td>-1</td>\n",
       "      <td>1</td>\n",
       "      <td>1</td>\n",
       "      <td>1</td>\n",
       "      <td>1</td>\n",
       "      <td>-1</td>\n",
       "      <td>-1</td>\n",
       "      <td>-1</td>\n",
       "      <td>1</td>\n",
       "      <td>...</td>\n",
       "      <td>-1</td>\n",
       "      <td>-1</td>\n",
       "      <td>-1</td>\n",
       "      <td>-1</td>\n",
       "      <td>-1</td>\n",
       "      <td>-1</td>\n",
       "      <td>-1</td>\n",
       "      <td>-1</td>\n",
       "      <td>-1</td>\n",
       "      <td>1</td>\n",
       "    </tr>\n",
       "  </tbody>\n",
       "</table>\n",
       "<p>3 rows × 65 columns</p>\n",
       "</div>"
      ],
      "text/plain": [
       "        pixel1  pixel2  pixel3  pixel4  pixel5  pixel6  pixel7  pixel8  \\\n",
       "letter                                                                   \n",
       "A           -1      -1      -1       1       1      -1      -1      -1   \n",
       "B            1       1       1       1       1       1      -1      -1   \n",
       "C           -1      -1       1       1       1       1      -1      -1   \n",
       "\n",
       "        pixel9  pixel10  ...  pixel56  pixel57  pixel58  pixel59  pixel60  \\\n",
       "letter                   ...                                                \n",
       "A           -1       -1  ...        1       -1       -1       -1       -1   \n",
       "B            1       -1  ...       -1       -1       -1       -1       -1   \n",
       "C           -1        1  ...       -1       -1       -1       -1       -1   \n",
       "\n",
       "        pixel61  pixel62  pixel63  pixel64  bias  \n",
       "letter                                            \n",
       "A            -1       -1       -1       -1     1  \n",
       "B            -1       -1       -1       -1     1  \n",
       "C            -1       -1       -1       -1     1  \n",
       "\n",
       "[3 rows x 65 columns]"
      ]
     },
     "execution_count": 235,
     "metadata": {},
     "output_type": "execute_result"
    }
   ],
   "source": [
    "mod_letters = letters.copy().replace(0, -1)\n",
    "mod_letters.head(3)"
   ]
  },
  {
   "cell_type": "code",
   "execution_count": 236,
   "metadata": {},
   "outputs": [
    {
     "name": "stdout",
     "output_type": "stream",
     "text": [
      "the success rate of the modded network is : 57.69%\n"
     ]
    }
   ],
   "source": [
    "W_mod = train_Hebbian(mod_letters)\n",
    "result_mod = test_Hebbian(mod_letters, W_mod)\n",
    "print(\"the success rate of the modded network is : {:.2f}%\".format(result_mod))"
   ]
  },
  {
   "cell_type": "markdown",
   "metadata": {},
   "source": [
    "# Anomalies!!!!!"
   ]
  },
  {
   "cell_type": "code",
   "execution_count": 237,
   "metadata": {},
   "outputs": [],
   "source": [
    "def add_noise(data, noise_percent):\n",
    "    \"\"\"\n",
    "    Add random noise to an entire dataset of binary data\n",
    "    \n",
    "    Parameters:\n",
    "    data: pandas DataFrame of 1s and -1s\n",
    "    noise_percent: float between 0 and 100, percent of bits to flip per row\n",
    "    \n",
    "    Returns:\n",
    "    noisy_data: pandas DataFrame with noise added to each row\n",
    "    \"\"\"\n",
    "    noisy_data = data.copy()\n",
    "    num_pixels = len(data.columns)\n",
    "    num_to_flip = int(num_pixels * noise_percent / 100)\n",
    "    \n",
    "    # For each row in the dataset\n",
    "    for idx in data.index:\n",
    "        # Randomly select indices to flip\n",
    "        flip_indices = np.random.choice(num_pixels, num_to_flip, replace=False)\n",
    "        \n",
    "        # Flip the selected bits (-1->1, 1->-1)\n",
    "        for flip_idx in flip_indices:\n",
    "            noisy_data.loc[idx, data.columns[flip_idx]] = -noisy_data.loc[idx, data.columns[flip_idx]]\n",
    "            \n",
    "    return noisy_data\n",
    "\n",
    "# Example usage:\n",
    "# noisy_A = add_noise(letters.loc['A'], 10)  # Add 10% noise to letter A\n"
   ]
  },
  {
   "cell_type": "code",
   "execution_count": 240,
   "metadata": {},
   "outputs": [
    {
     "name": "stdout",
     "output_type": "stream",
     "text": [
      "results of noisy data with dataset of 1's and -1's:\n",
      "\n",
      "for noise5 the result is:   55.749999999999986\n",
      "for noise10 the result is:   55.865384615384635\n",
      "for noise20 the result is:   54.26923076923079\n",
      "for noise30 the result is:   51.96153846153848\n"
     ]
    }
   ],
   "source": [
    "W_mod = train_Hebbian(mod_letters)\n",
    "print(\"results of noisy data with dataset of 1's and -1's:\\n\")\n",
    "for i in [5,10,20,30]:\n",
    "    per_sum =0\n",
    "    for j in range(100):\n",
    "        noisy = add_noise(mod_letters,i)\n",
    "        #letters.set_index\n",
    "        ret = test_Hebbian(noisy,W_mod)\n",
    "        per_sum+=ret/100\n",
    "    print(f\"for noise{i} the result is:  \",per_sum)"
   ]
  },
  {
   "cell_type": "code",
   "execution_count": 239,
   "metadata": {},
   "outputs": [
    {
     "name": "stdout",
     "output_type": "stream",
     "text": [
      "results of noisy data with dataset of 1's and 0's:\n",
      "\n",
      "for noise5 the result is:   92.88461538461546\n",
      "for noise10 the result is:   93.00000000000006\n",
      "for noise20 the result is:   91.42307692307683\n",
      "for noise30 the result is:   91.23076923076918\n"
     ]
    }
   ],
   "source": [
    "W = train_Hebbian(letters)\n",
    "print(\"results of noisy data with dataset of 1's and 0's:\\n\")\n",
    "for i in [5,10,20,30]:\n",
    "    per_sum =0\n",
    "    for j in range(200):\n",
    "        noisy = add_noise(letters,i)\n",
    "        #letters.set_index\n",
    "        ret = test_Hebbian(noisy,W)\n",
    "        per_sum+=ret/200\n",
    "    print(f\"for noise{i} the result is:  \",per_sum)"
   ]
  },
  {
   "cell_type": "markdown",
   "metadata": {},
   "source": [
    "# Making the 64*26 NetWork  \n"
   ]
  },
  {
   "cell_type": "code",
   "execution_count": 16,
   "metadata": {},
   "outputs": [
    {
     "data": {
      "text/plain": [
       "(26, 65)"
      ]
     },
     "execution_count": 16,
     "metadata": {},
     "output_type": "execute_result"
    }
   ],
   "source": [
    "letters.shape"
   ]
  },
  {
   "cell_type": "code",
   "execution_count": 17,
   "metadata": {},
   "outputs": [],
   "source": [
    "def to_num(letter):\n",
    "    # Convert letter to corresponding number (A=1, B=2, ..., Z=26)\n",
    "    target = ord(letter) - ord('A') + 1\n",
    "    return target\n"
   ]
  },
  {
   "cell_type": "code",
   "execution_count": 18,
   "metadata": {},
   "outputs": [],
   "source": [
    "def train_26_Hebb(train,alpha =26):\n",
    "    W = np.zeros((train.shape[0],train.shape[1]))\n",
    "    for weight in range(26):\n",
    "        for letter in train.index:\n",
    "            if weight+1 == to_num(letter):\n",
    "                W[weight] = W[weight] + np.dot(train.loc[letter],alpha)\n",
    "            else: W[weight] = W[weight] - train.loc[letter]\n",
    "    return W"
   ]
  },
  {
   "cell_type": "code",
   "execution_count": 19,
   "metadata": {},
   "outputs": [],
   "source": [
    "def test_26_Hebb(test,W):\n",
    "    results = [[] for _ in range(26)]  # Initialize list of 26 empty lists\n",
    "    for weight in range(26):\n",
    "        for letter in test.index:\n",
    "            ans = np.dot(W[weight],test.loc[letter])\n",
    "            if ans > 1:\n",
    "                results[weight].append(1)\n",
    "            else:\n",
    "                results[weight].append(0)\n",
    "    return results"
   ]
  },
  {
   "cell_type": "code",
   "execution_count": 117,
   "metadata": {},
   "outputs": [],
   "source": [
    "def test_accuracy(test_results):\n",
    "    # Create the target array where each letter should only activate its corresponding neuron\n",
    "    target = np.zeros((26, 26))\n",
    "    for i in range(26):\n",
    "        target[i][i] = 1\n",
    "\n",
    "    # Convert test_results to numpy array for comparison\n",
    "    results = np.array(test_results)\n",
    "\n",
    "    # Calculate accuracy by comparing with target array\n",
    "    correct = 0\n",
    "    total = 26 * 26  # Total number of predictions\n",
    "\n",
    "    for i in range(26):\n",
    "        for j in range(26):\n",
    "            if results[i][j] == target[i][j]:\n",
    "                correct += 1\n",
    "\n",
    "    accuracy = (correct / total) * 100\n",
    "    print(f\"Accuracy: {accuracy:.2f}%\")\n",
    "\n",
    "    # Print where the network made mistakes\n",
    "    for i in range(26):\n",
    "        letter = chr(65 + i)  # Convert index to ASCII letter\n",
    "        mistakes = []\n",
    "        for j in range(26):\n",
    "            if results[i][j] != target[i][j]:\n",
    "                mistakes.append(chr(65 + j))\n",
    "        if mistakes:\n",
    "            print(f\"Neuron {letter} made mistakes on letters: {', '.join(mistakes)}\")\n",
    "    \n",
    "    return accuracy"
   ]
  },
  {
   "cell_type": "code",
   "execution_count": 21,
   "metadata": {},
   "outputs": [],
   "source": [
    "def test_accuracy_simple(test_results):\n",
    "    target = np.zeros((26, 26))\n",
    "    for i in range(26):\n",
    "        target[i][i] = 1\n",
    "\n",
    "    results = np.array(test_results)\n",
    "    correct = 0\n",
    "    total = 26 * 26  # Total number of predictions becuase for each letter success or fail on each letter\n",
    "\n",
    "    for i in range(26):\n",
    "        for j in range(26):\n",
    "            if results[i][j] == target[i][j]:\n",
    "                correct += 1\n",
    "\n",
    "    accuracy = (correct / total) * 100\n",
    "    return accuracy\n"
   ]
  },
  {
   "cell_type": "code",
   "execution_count": 116,
   "metadata": {},
   "outputs": [
    {
     "name": "stdout",
     "output_type": "stream",
     "text": [
      "i is:     11\n",
      "97.92899408284023\n",
      "i is:     12\n",
      "98.37278106508876\n",
      "i is:     13\n",
      "98.66863905325444\n",
      "i is:     14\n",
      "95.11834319526628\n",
      "i is:     15\n",
      "92.89940828402366\n"
     ]
    }
   ],
   "source": [
    "for i in range(11,16):\n",
    "    W26 = train_26_Hebb(letters,alpha = i)\n",
    "    TW26 = test_26_Hebb(letters,W26)\n",
    "    print(\"i is:    \",i)\n",
    "    print(test_accuracy_simple(TW26))"
   ]
  },
  {
   "cell_type": "code",
   "execution_count": 130,
   "metadata": {},
   "outputs": [
    {
     "name": "stdout",
     "output_type": "stream",
     "text": [
      "dataset of 1's and 0's with alpha = 13\n",
      "\n",
      "Accuracy: 98.67%\n",
      "Neuron C made mistakes on letters: C\n",
      "Neuron F made mistakes on letters: F\n",
      "Neuron G made mistakes on letters: J\n",
      "Neuron I made mistakes on letters: T\n",
      "Neuron L made mistakes on letters: L\n",
      "Neuron M made mistakes on letters: N\n",
      "Neuron N made mistakes on letters: M\n",
      "Neuron P made mistakes on letters: P\n",
      "Neuron Q made mistakes on letters: O\n"
     ]
    },
    {
     "data": {
      "text/plain": [
       "98.66863905325444"
      ]
     },
     "execution_count": 130,
     "metadata": {},
     "output_type": "execute_result"
    }
   ],
   "source": [
    "W26_13 = train_26_Hebb(letters,alpha=13)\n",
    "TW26_13 = test_26_Hebb(letters,W26_13)\n",
    "print(\"dataset of 1's and 0's with alpha = 13\\n\")\n",
    "test_accuracy(TW26_13)"
   ]
  },
  {
   "cell_type": "code",
   "execution_count": 125,
   "metadata": {},
   "outputs": [
    {
     "name": "stdout",
     "output_type": "stream",
     "text": [
      "i is:     9\n",
      "97.92899408284023\n",
      "i is:     10\n",
      "98.22485207100591\n",
      "i is:     11\n",
      "98.66863905325444\n",
      "i is:     12\n",
      "96.89349112426035\n"
     ]
    }
   ],
   "source": [
    "for i in range(9,13):\n",
    "    W26 = train_26_Hebb(mod_letters,alpha = i)\n",
    "    TW26 = test_26_Hebb(mod_letters,W26)\n",
    "    print(\"i is:    \",i)\n",
    "    print(test_accuracy_simple(TW26))"
   ]
  },
  {
   "cell_type": "code",
   "execution_count": 131,
   "metadata": {},
   "outputs": [
    {
     "name": "stdout",
     "output_type": "stream",
     "text": [
      "dataset of 1's and -1's with alpha = 11\n",
      "\n",
      "Accuracy: 98.67%\n",
      "Neuron C made mistakes on letters: C\n",
      "Neuron F made mistakes on letters: F\n",
      "Neuron I made mistakes on letters: T\n",
      "Neuron L made mistakes on letters: L\n",
      "Neuron M made mistakes on letters: N\n",
      "Neuron N made mistakes on letters: M\n",
      "Neuron O made mistakes on letters: Q\n",
      "Neuron P made mistakes on letters: P\n",
      "Neuron T made mistakes on letters: I\n"
     ]
    },
    {
     "data": {
      "text/plain": [
       "98.66863905325444"
      ]
     },
     "execution_count": 131,
     "metadata": {},
     "output_type": "execute_result"
    }
   ],
   "source": [
    "W26_11 = train_26_Hebb(mod_letters,alpha=11)\n",
    "TW26_11 = test_26_Hebb(mod_letters,W26_11)\n",
    "print(\"dataset of 1's and -1's with alpha = 11\\n\")\n",
    "test_accuracy(TW26_11)"
   ]
  },
  {
   "cell_type": "markdown",
   "metadata": {},
   "source": [
    "### Noise? what? I cant Hear you?"
   ]
  },
  {
   "cell_type": "code",
   "execution_count": 257,
   "metadata": {},
   "outputs": [
    {
     "name": "stdout",
     "output_type": "stream",
     "text": [
      "results of noisy data with dataset of 1's and 0's;  alpha = 13:\n",
      "\n",
      "for noise5 the result is:   97.96301775147928\n",
      "for noise10 the result is:   97.33136094674559\n",
      "for noise20 the result is:   94.0991124260355\n",
      "for noise30 the result is:   88.353550295858\n",
      "for noise50 the result is:   52.575443786982234\n"
     ]
    }
   ],
   "source": [
    "print(\"results of noisy data with dataset of 1's and 0's;  alpha = 13:\\n\")\n",
    "for i in [5,10,20,30,50]:\n",
    "    per_sum =0\n",
    "    for j in range(100):\n",
    "        noisy = add_noise(letters,i)\n",
    "        #letters.set_index\n",
    "        ret = test_26_Hebb(noisy,W26_13)\n",
    "        per_sum+= test_accuracy_simple(ret)/100\n",
    "    print(f\"for noise{i} the result is:  \",per_sum)\n"
   ]
  },
  {
   "cell_type": "code",
   "execution_count": 258,
   "metadata": {},
   "outputs": [
    {
     "name": "stdout",
     "output_type": "stream",
     "text": [
      "results of noisy data with dataset of 1's and -1's;  alpha = 11:\n",
      "\n",
      "for noise5 the result is:   98.0118343195267\n",
      "for noise10 the result is:   97.53402366863914\n",
      "for noise20 the result is:   95.87130177514794\n",
      "for noise30 the result is:   92.0695266272189\n",
      "for noise50 the result is:   52.62869822485207\n"
     ]
    }
   ],
   "source": [
    "print(\"results of noisy data with dataset of 1's and -1's;  alpha = 11:\\n\")\n",
    "for i in [5,10,20,30,50]:\n",
    "    per_sum =0\n",
    "    for j in range(100):\n",
    "        noisy = add_noise(mod_letters,i)\n",
    "        #letters.set_index\n",
    "        ret = test_26_Hebb(noisy,W26_11)\n",
    "        per_sum+= test_accuracy_simple(ret)/100\n",
    "    print(f\"for noise{i} the result is:  \",per_sum)\n"
   ]
  },
  {
   "cell_type": "markdown",
   "metadata": {},
   "source": [
    "# Making the 64*3 Network"
   ]
  },
  {
   "cell_type": "code",
   "execution_count": 138,
   "metadata": {},
   "outputs": [
    {
     "name": "stdout",
     "output_type": "stream",
     "text": [
      "(26, 65)\n"
     ]
    },
    {
     "data": {
      "text/html": [
       "<div>\n",
       "<style scoped>\n",
       "    .dataframe tbody tr th:only-of-type {\n",
       "        vertical-align: middle;\n",
       "    }\n",
       "\n",
       "    .dataframe tbody tr th {\n",
       "        vertical-align: top;\n",
       "    }\n",
       "\n",
       "    .dataframe thead th {\n",
       "        text-align: right;\n",
       "    }\n",
       "</style>\n",
       "<table border=\"1\" class=\"dataframe\">\n",
       "  <thead>\n",
       "    <tr style=\"text-align: right;\">\n",
       "      <th></th>\n",
       "      <th>pixel1</th>\n",
       "      <th>pixel2</th>\n",
       "      <th>pixel3</th>\n",
       "      <th>pixel4</th>\n",
       "      <th>pixel5</th>\n",
       "      <th>pixel6</th>\n",
       "      <th>pixel7</th>\n",
       "      <th>pixel8</th>\n",
       "      <th>pixel9</th>\n",
       "      <th>pixel10</th>\n",
       "      <th>...</th>\n",
       "      <th>pixel56</th>\n",
       "      <th>pixel57</th>\n",
       "      <th>pixel58</th>\n",
       "      <th>pixel59</th>\n",
       "      <th>pixel60</th>\n",
       "      <th>pixel61</th>\n",
       "      <th>pixel62</th>\n",
       "      <th>pixel63</th>\n",
       "      <th>pixel64</th>\n",
       "      <th>bias</th>\n",
       "    </tr>\n",
       "    <tr>\n",
       "      <th>letter</th>\n",
       "      <th></th>\n",
       "      <th></th>\n",
       "      <th></th>\n",
       "      <th></th>\n",
       "      <th></th>\n",
       "      <th></th>\n",
       "      <th></th>\n",
       "      <th></th>\n",
       "      <th></th>\n",
       "      <th></th>\n",
       "      <th></th>\n",
       "      <th></th>\n",
       "      <th></th>\n",
       "      <th></th>\n",
       "      <th></th>\n",
       "      <th></th>\n",
       "      <th></th>\n",
       "      <th></th>\n",
       "      <th></th>\n",
       "      <th></th>\n",
       "      <th></th>\n",
       "    </tr>\n",
       "  </thead>\n",
       "  <tbody>\n",
       "    <tr>\n",
       "      <th>A</th>\n",
       "      <td>-1</td>\n",
       "      <td>-1</td>\n",
       "      <td>-1</td>\n",
       "      <td>1</td>\n",
       "      <td>1</td>\n",
       "      <td>-1</td>\n",
       "      <td>-1</td>\n",
       "      <td>-1</td>\n",
       "      <td>-1</td>\n",
       "      <td>-1</td>\n",
       "      <td>...</td>\n",
       "      <td>1</td>\n",
       "      <td>-1</td>\n",
       "      <td>-1</td>\n",
       "      <td>-1</td>\n",
       "      <td>-1</td>\n",
       "      <td>-1</td>\n",
       "      <td>-1</td>\n",
       "      <td>-1</td>\n",
       "      <td>-1</td>\n",
       "      <td>1</td>\n",
       "    </tr>\n",
       "  </tbody>\n",
       "</table>\n",
       "<p>1 rows × 65 columns</p>\n",
       "</div>"
      ],
      "text/plain": [
       "        pixel1  pixel2  pixel3  pixel4  pixel5  pixel6  pixel7  pixel8  \\\n",
       "letter                                                                   \n",
       "A           -1      -1      -1       1       1      -1      -1      -1   \n",
       "\n",
       "        pixel9  pixel10  ...  pixel56  pixel57  pixel58  pixel59  pixel60  \\\n",
       "letter                   ...                                                \n",
       "A           -1       -1  ...        1       -1       -1       -1       -1   \n",
       "\n",
       "        pixel61  pixel62  pixel63  pixel64  bias  \n",
       "letter                                            \n",
       "A            -1       -1       -1       -1     1  \n",
       "\n",
       "[1 rows x 65 columns]"
      ]
     },
     "execution_count": 138,
     "metadata": {},
     "output_type": "execute_result"
    }
   ],
   "source": [
    "#letters = mod_letters\n",
    "print(letters.shape)\n",
    "letters.head(1)\n"
   ]
  },
  {
   "cell_type": "code",
   "execution_count": 139,
   "metadata": {},
   "outputs": [],
   "source": [
    "def in_target(letter:str):\n",
    "    if ord('A') <= ord(letter) <= ord('I'):\n",
    "        return 1\n",
    "    elif ord('J') <= ord(letter) <= ord('R'): \n",
    "        return 0\n",
    "    elif ord('S') <= ord(letter) <= ord('Z'):\n",
    "        return -1"
   ]
  },
  {
   "cell_type": "code",
   "execution_count": 140,
   "metadata": {},
   "outputs": [],
   "source": [
    "def train_3_Hebb(train,alpha=2):\n",
    "    W = np.zeros((3,train.shape[1]))\n",
    "    for weight in range(3):\n",
    "        for letter in train.index:\n",
    "            if weight-1 == in_target(letter):\n",
    "                W[weight] = W[weight] + alpha * train.loc[letter] # Fixed dot product to scalar multiplication\n",
    "            else:\n",
    "                W[weight] = W[weight] - train.loc[letter]\n",
    "    return W[::-1]\n",
    "#W: [[S-Z],[J-R],[A-I]] ____  W[::-1] = [[A-I],[J-R],[S-Z]]"
   ]
  },
  {
   "cell_type": "code",
   "execution_count": 141,
   "metadata": {},
   "outputs": [],
   "source": [
    "def test_3_Hebb(test,W):\n",
    "    results = [[] for _ in range(3)]  # Initialize list of 3 empty lists\n",
    "    for weight in range(3):\n",
    "        for letter in test.index:\n",
    "            ans = np.dot(W[weight],test.loc[letter])\n",
    "            if ans > 1:\n",
    "                results[weight].append(1)\n",
    "            else:\n",
    "                results[weight].append(0)\n",
    "    return results\n",
    "#results[[A,B,C,,,Z]--[A-I], [A,B,C,,,Z]--[J-R], [A,B,C,,,Z]--[S-Z]]"
   ]
  },
  {
   "cell_type": "code",
   "execution_count": 142,
   "metadata": {},
   "outputs": [
    {
     "name": "stdout",
     "output_type": "stream",
     "text": [
      "Best alpha: 2\n",
      "Best accuracy: 38.46153846153847%\n"
     ]
    }
   ],
   "source": [
    "# Find optimal alpha by testing different values\n",
    "best_alpha = 1\n",
    "best_accuracy = 0\n",
    "\n",
    "for alpha in range(1, 101):  # Test alpha values from 1 to 100\n",
    "    W3 = train_3_Hebb(letters, alpha)\n",
    "    results = test_3_Hebb(letters, W3)\n",
    "    \n",
    "    # Calculate accuracy for this alpha\n",
    "    correct = 0\n",
    "    total = len(letters)\n",
    "    \n",
    "    for i, letter in enumerate(letters.index):\n",
    "        target = in_target(letter)\n",
    "        predicted = None\n",
    "        \n",
    "        if results[0][i] == 1 and results[1][i] == 0 and results[2][i] == 0:\n",
    "            predicted = 1\n",
    "        elif results[0][i] == 0 and results[1][i] == 1 and results[2][i] == 0:\n",
    "            predicted = 0\n",
    "        elif results[0][i] == 0 and results[1][i] == 0 and results[2][i] == 1:\n",
    "            predicted = -1\n",
    "            \n",
    "        if predicted == target:\n",
    "            correct += 1\n",
    "    \n",
    "    accuracy = (correct / total) * 100\n",
    "    \n",
    "    if accuracy > best_accuracy:\n",
    "        best_accuracy = accuracy\n",
    "        best_alpha = alpha\n",
    "\n",
    "print(f\"Best alpha: {best_alpha}\")\n",
    "print(f\"Best accuracy: {best_accuracy}%\")\n"
   ]
  },
  {
   "cell_type": "code",
   "execution_count": 144,
   "metadata": {},
   "outputs": [
    {
     "name": "stdout",
     "output_type": "stream",
     "text": [
      "the weights Matrix of the network (65 is 64 pixels + bias)\n",
      "\n",
      "(3, 65)\n",
      "[ -7.  11.  13.  17.  17.   9.   3. -11.   1.  -7.   3.   1.  -1.   3.\n",
      "  -7.  -7.   5.   1.  -9.   1.  -5.  -7.   3.  -9.  11.  15.  11.   1.\n",
      "   9.  11.  13.  -5.  11.  -1.  -9.  -1.  -9.  -7.   9.  -7.   9.  -9.\n",
      "  -1.  -3.  -3.  -5.  -3.   1.   5.  11.   9.   3.   9.   5.  -5.  -1.\n",
      "  -1.  -1.  -1.  -1.  -1.  -1.  -1.  -1.   1.]\n",
      "[-1. -7. -5. -7. -7. -3. -3. -5.  7.  5. -3. -5. -1. -3. 11. -1. 11. -5.\n",
      "  3. -5.  1. -1.  3.  9. 11. -3. -7. -5. -9. -7. -5.  7. 11. -1. -9. -7.\n",
      " 15. -7. -3.  5.  9. -3. -1. -9. -3. 13. -3.  1.  5. -7. -3. -9. -3. -1.\n",
      " 13. -1. -1. -1. -1. -1. -1. -1. -1. -1.  1.]\n",
      "[  8.  -4.  -8. -10. -10.  -6.   0.  16.  -8.   2.   0.   4.   2.   0.\n",
      "  -4.   8. -16.   4.   6.   4.   4.   8.  -6.   0. -22. -12.  -4.   4.\n",
      "   0.  -4.  -8.  -2. -22.   2.  18.   8.  -6.  14.  -6.   2. -18.  12.\n",
      "   2.  12.   6.  -8.   6.  -2. -10.  -4.  -6.   6.  -6.  -4.  -8.   2.\n",
      "   2.   2.   2.   2.   2.   2.   2.   2.  -2.]\n"
     ]
    }
   ],
   "source": [
    "print(\"the weights Matrix of the network (65 is 64 pixels + bias)\\n\")\n",
    "# Train the network\n",
    "W3 = train_3_Hebb(letters)\n",
    "print(W3.shape)\n",
    "# Test the network\n",
    "results = test_3_Hebb(letters, W3)\n",
    "\n",
    "for i in W3:\n",
    "    print(i)\n"
   ]
  },
  {
   "cell_type": "code",
   "execution_count": 148,
   "metadata": {},
   "outputs": [],
   "source": [
    "def calculate_accuracy(results, letters):\n",
    "    correct = 0\n",
    "    total = len(letters)\n",
    "\n",
    "    for i, letter in enumerate(letters.index):\n",
    "        target = in_target(letter)\n",
    "        predicted = None\n",
    "\n",
    "        # Check which output neuron fired (1) and others didn't (0)\n",
    "        if results[0][i] == 1 and results[1][i] == 0 and results[2][i] == 0:\n",
    "            predicted = 1  # First group (A-I)\n",
    "        elif results[0][i] == 0 and results[1][i] == 1 and results[2][i] == 0:\n",
    "            predicted = 0  # Second group (J-R) \n",
    "        elif results[0][i] == 0 and results[1][i] == 0 and results[2][i] == 1:\n",
    "            predicted = -1  # Third group (S-Z)\n",
    "\n",
    "        if predicted == target:\n",
    "            correct += 1\n",
    "\n",
    "    accuracy = (correct / total) * 100\n",
    "    return accuracy\n",
    "\n"
   ]
  },
  {
   "cell_type": "code",
   "execution_count": 149,
   "metadata": {},
   "outputs": [
    {
     "name": "stdout",
     "output_type": "stream",
     "text": [
      "\n",
      "Accuracy of 1's and 0's: 38.46%\n",
      "\n",
      "Accuracy of 1's and -1's: 38.46%\n"
     ]
    }
   ],
   "source": [
    "W3 = train_3_Hebb(letters)\n",
    "results = test_3_Hebb(letters, W3)\n",
    "\n",
    "\n",
    "W3_mod = train_3_Hebb(mod_letters)\n",
    "results_mod = test_3_Hebb(mod_letters, W3_mod)\n",
    "\n",
    "accuracy = calculate_accuracy(results, letters)\n",
    "accuracy_mod = calculate_accuracy(results_mod, mod_letters)\n",
    "\n",
    "print(f\"\\nAccuracy of 1's and 0's: {accuracy:.2f}%\")\n",
    "print(f\"\\nAccuracy of 1's and -1's: {accuracy_mod:.2f}%\")"
   ]
  },
  {
   "cell_type": "code",
   "execution_count": 245,
   "metadata": {},
   "outputs": [
    {
     "name": "stdout",
     "output_type": "stream",
     "text": [
      "Base Categories\n",
      "results of noisy data with dataset of 1's and 0's:\n",
      "\n",
      "for noise5 the result is:   41.96153846153843\n",
      "for noise10 the result is:   39.3076923076923\n",
      "for noise20 the result is:   35.57692307692306\n",
      "for noise30 the result is:   32.46153846153847\n"
     ]
    }
   ],
   "source": [
    "print(\"Base Categories\")\n",
    "print(\"results of noisy data with dataset of 1's and 0's:\\n\")\n",
    "for i in [5,10,20,30]:\n",
    "    per_sum =0\n",
    "    for j in range(100):\n",
    "        noisy = add_noise(letters,i)\n",
    "        #letters.set_index\n",
    "        ret = test_3_Hebb(noisy,W3)\n",
    "        per_sum+= calculate_accuracy(ret,letters)/100\n",
    "    print(f\"for noise{i} the result is:  \",per_sum)"
   ]
  },
  {
   "cell_type": "code",
   "execution_count": 246,
   "metadata": {},
   "outputs": [
    {
     "name": "stdout",
     "output_type": "stream",
     "text": [
      "Base Categories\n",
      "results of noisy data with dataset of 1's and -1's:\n",
      "\n",
      "for noise5 the result is:   34.76923076923077\n",
      "for noise10 the result is:   34.615384615384606\n",
      "for noise20 the result is:   36.038461538461526\n",
      "for noise30 the result is:   34.53846153846155\n"
     ]
    }
   ],
   "source": [
    "print(\"Base Categories\")\n",
    "print(\"results of noisy data with dataset of 1's and -1's:\\n\")\n",
    "for i in [5,10,20,30]:\n",
    "    per_sum =0\n",
    "    for j in range(100):\n",
    "        noisy = add_noise(mod_letters,i)\n",
    "        #letters.set_index\n",
    "        ret = test_3_Hebb(noisy,W3_mod)\n",
    "        per_sum+= calculate_accuracy(ret,mod_letters)/100\n",
    "    print(f\"for noise{i} the result is:  \",per_sum)"
   ]
  },
  {
   "cell_type": "markdown",
   "metadata": {},
   "source": [
    "# New World Order"
   ]
  },
  {
   "cell_type": "code",
   "execution_count": 195,
   "metadata": {},
   "outputs": [],
   "source": [
    "def in_target2(letter:str):\n",
    "    first_group = ['I', 'L', 'T', 'F', 'E', 'H', 'N', 'M']\n",
    "    second_group = ['O', 'Q', 'C', 'G', 'D', 'B', 'P', 'R', 'J']\n",
    "    third_group = ['A', 'V', 'W', 'X', 'Y', 'Z', 'K', 'S', 'U']\n",
    "    \n",
    "    if letter in first_group:\n",
    "        return 1\n",
    "    elif letter in second_group:\n",
    "        return 0\n",
    "    elif letter in third_group:\n",
    "        return -1"
   ]
  },
  {
   "cell_type": "code",
   "execution_count": 196,
   "metadata": {},
   "outputs": [],
   "source": [
    "def train_3_Hebb2(train,alpha=2):#test is the same function\n",
    "    W = np.zeros((3,train.shape[1]))\n",
    "    for weight in range(3):\n",
    "        for letter in train.index:\n",
    "            if weight-1 == in_target2(letter):\n",
    "                W[weight] = W[weight] + alpha * train.loc[letter] # Fixed dot product to scalar multiplication\n",
    "            else:\n",
    "                W[weight] = W[weight] - train.loc[letter]\n",
    "    return W[::-1]"
   ]
  },
  {
   "cell_type": "code",
   "execution_count": 197,
   "metadata": {},
   "outputs": [],
   "source": [
    "def calculate_accuracy2(results, letters):\n",
    "    correct = 0\n",
    "    total = len(letters)\n",
    "\n",
    "    for i, letter in enumerate(letters.index):\n",
    "        target = in_target2(letter)\n",
    "        predicted = None\n",
    "\n",
    "        # Check which output neuron fired (1) and others didn't (0)\n",
    "        if results[0][i] == 1 and results[1][i] == 0 and results[2][i] == 0:\n",
    "            predicted = 1  # First group (A-I)\n",
    "        elif results[0][i] == 0 and results[1][i] == 1 and results[2][i] == 0:\n",
    "            predicted = 0  # Second group (J-R) \n",
    "        elif results[0][i] == 0 and results[1][i] == 0 and results[2][i] == 1:\n",
    "            predicted = -1  # Third group (S-Z)\n",
    "\n",
    "        if predicted == target:\n",
    "            correct += 1\n",
    "\n",
    "    accuracy = (correct / total) * 100\n",
    "    return accuracy"
   ]
  },
  {
   "cell_type": "code",
   "execution_count": 198,
   "metadata": {},
   "outputs": [
    {
     "name": "stdout",
     "output_type": "stream",
     "text": [
      "\n",
      "Accuracy of 1's and 0's: 53.85%\n",
      "\n",
      "Accuracy of 1's and -1's: 50.00%\n"
     ]
    }
   ],
   "source": [
    "W3_2 = train_3_Hebb2(letters)\n",
    "results_2 = test_3_Hebb(letters, W3_2)\n",
    "\n",
    "W3_mod_2 = train_3_Hebb2(mod_letters)\n",
    "results_mod_2 = test_3_Hebb(mod_letters, W3_mod_2)\n",
    "\n",
    "\n",
    "accuracy_2 = calculate_accuracy2(results_2, letters)\n",
    "accuracy_mod_2 = calculate_accuracy2(results_mod_2, mod_letters)\n",
    "\n",
    "print(f\"\\nAccuracy of 1's and 0's: {accuracy_2:.2f}%\")\n",
    "print(f\"\\nAccuracy of 1's and -1's: {accuracy_mod_2:.2f}%\")"
   ]
  },
  {
   "cell_type": "code",
   "execution_count": 247,
   "metadata": {},
   "outputs": [
    {
     "name": "stdout",
     "output_type": "stream",
     "text": [
      "New Categories\n",
      "results of noisy data with dataset of 1's and 0's:\n",
      "\n",
      "for noise5 the result is:   53.34615384615389\n",
      "for noise10 the result is:   51.961538461538495\n",
      "for noise20 the result is:   46.769230769230745\n",
      "for noise30 the result is:   41.38461538461537\n"
     ]
    }
   ],
   "source": [
    "print(\"New Categories\")\n",
    "print(\"results of noisy data with dataset of 1's and 0's:\\n\")\n",
    "for i in [5,10,20,30]:\n",
    "    per_sum =0\n",
    "    for j in range(100):\n",
    "        noisy = add_noise(letters,i)\n",
    "        #letters.set_index\n",
    "        ret = test_3_Hebb(noisy,W3_2)\n",
    "        per_sum+= calculate_accuracy2(ret,letters)/100\n",
    "    print(f\"for noise{i} the result is:  \",per_sum)"
   ]
  },
  {
   "cell_type": "code",
   "execution_count": 248,
   "metadata": {},
   "outputs": [
    {
     "name": "stdout",
     "output_type": "stream",
     "text": [
      "New Categories\n",
      "results of noisy data with dataset of 1's and -1's:\n",
      "\n",
      "for noise5 the result is:   44.499999999999936\n",
      "for noise10 the result is:   46.38461538461535\n",
      "for noise20 the result is:   46.038461538461526\n",
      "for noise30 the result is:   41.15384615384613\n"
     ]
    }
   ],
   "source": [
    "print(\"New Categories\")\n",
    "print(\"results of noisy data with dataset of 1's and -1's:\\n\")\n",
    "for i in [5,10,20,30]:\n",
    "    per_sum =0\n",
    "    for j in range(100):\n",
    "        noisy = add_noise(mod_letters,i)\n",
    "        #letters.set_index\n",
    "        ret = test_3_Hebb(noisy,W3_mod_2)\n",
    "        per_sum+= calculate_accuracy2(ret,mod_letters)/100\n",
    "    print(f\"for noise{i} the result is:  \",per_sum)"
   ]
  },
  {
   "cell_type": "code",
   "execution_count": null,
   "metadata": {},
   "outputs": [],
   "source": []
  }
 ],
 "metadata": {
  "kernelspec": {
   "display_name": "Python 3",
   "language": "python",
   "name": "python3"
  },
  "language_info": {
   "codemirror_mode": {
    "name": "ipython",
    "version": 3
   },
   "file_extension": ".py",
   "mimetype": "text/x-python",
   "name": "python",
   "nbconvert_exporter": "python",
   "pygments_lexer": "ipython3",
   "version": "3.12.2"
  }
 },
 "nbformat": 4,
 "nbformat_minor": 2
}
